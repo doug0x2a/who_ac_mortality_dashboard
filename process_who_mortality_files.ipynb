{
 "cells": [
  {
   "cell_type": "markdown",
   "id": "a3d5a965",
   "metadata": {},
   "source": [
    "# All Cause Mortality\n",
    "This notebook takes the files from the [WHO Mortality Database](https://www.who.int/data/data-collection-tools/who-mortality-database) and reprocesses them for use on a dashboard.  Only all cause mortality is considered here.  In most cases the all cause mortality is specified by ICD code for a given country.  Three output files are produced that have total mortality numbers, reported population, and mortality per 1000 people."
   ]
  },
  {
   "cell_type": "code",
   "execution_count": 1,
   "id": "31da8ab6",
   "metadata": {},
   "outputs": [],
   "source": [
    "import pandas as pd\n",
    "import numpy as np"
   ]
  },
  {
   "cell_type": "markdown",
   "id": "df253f08",
   "metadata": {},
   "source": [
    "## Load mortality files"
   ]
  },
  {
   "cell_type": "code",
   "execution_count": 2,
   "id": "858a9c81",
   "metadata": {},
   "outputs": [],
   "source": [
    "# The following columns for total deaths\n",
    "deaths_columns = [f'Deaths{i}' for i in range(1,27)]\n",
    "\n",
    "# The following columns are the infant mortality columns\n",
    "im_columns = [f'IM_Deaths{i}' for i in range(1,5)]\n",
    "\n",
    "# Set dtypes to avoid mixed type warnings when importing data\n",
    "input_dtypes = {'Country': int, 'Year': int, 'Admin1': 'Int64', 'SubDiv': str, 'List': str, 'Cause': str, 'Sex': int,\n",
    "                'Frmat': str, 'IM_Frmat': str}\n",
    "\n",
    "# Many of the entries in the mortality columns are blank.  The Int64 (vs int64) dtype allows for NaN values.\n",
    "input_dtypes.update({col:'Int64' for col in (deaths_columns + im_columns)})"
   ]
  },
  {
   "cell_type": "code",
   "execution_count": 3,
   "id": "68a67d3a",
   "metadata": {},
   "outputs": [],
   "source": [
    "# Load all of the mortality files from icd 7 to 10.\n",
    "mort_icd7 = pd.read_csv('MortIcd7', dtype=input_dtypes)\n",
    "mort_icd7['ICD_Version'] = 7\n",
    "\n",
    "mort_icd8 = pd.read_csv('MortIcd8', dtype=input_dtypes)\n",
    "mort_icd8['ICD_Version'] = 8\n",
    "\n",
    "mort_icd9 = pd.read_csv('MortIcd9', dtype=input_dtypes)\n",
    "mort_icd9['ICD_Version'] = 9\n",
    "\n",
    "mort_icd10 = pd.concat(\n",
    "    [pd.read_csv(f'Morticd10_part{i}', dtype=input_dtypes) for i in range(1,6)], axis=0)\n",
    "mort_icd10['ICD_Version'] = 10"
   ]
  },
  {
   "cell_type": "code",
   "execution_count": 4,
   "id": "179fb2be",
   "metadata": {
    "scrolled": true
   },
   "outputs": [
    {
     "data": {
      "text/plain": [
       "(6068067, 40)"
      ]
     },
     "execution_count": 4,
     "metadata": {},
     "output_type": "execute_result"
    }
   ],
   "source": [
    "who_mortality = pd.concat([mort_icd7, mort_icd8, mort_icd9, mort_icd10])\n",
    "\n",
    "# Pandas does not handle NA values in columns used as an index\n",
    "who_mortality['Admin1'] = who_mortality['Admin1'].fillna(0)\n",
    "who_mortality['SubDiv'] = who_mortality['SubDiv'].fillna('NONE')\n",
    "\n",
    "who_mortality.shape"
   ]
  },
  {
   "cell_type": "code",
   "execution_count": 5,
   "id": "f094edb3",
   "metadata": {},
   "outputs": [
    {
     "data": {
      "text/plain": [
       "Index(['Country', 'Admin1', 'SubDiv', 'Year', 'List', 'Cause', 'Sex', 'Frmat',\n",
       "       'IM_Frmat', 'Deaths1', 'Deaths2', 'Deaths3', 'Deaths4', 'Deaths5',\n",
       "       'Deaths6', 'Deaths7', 'Deaths8', 'Deaths9', 'Deaths10', 'Deaths11',\n",
       "       'Deaths12', 'Deaths13', 'Deaths14', 'Deaths15', 'Deaths16', 'Deaths17',\n",
       "       'Deaths18', 'Deaths19', 'Deaths20', 'Deaths21', 'Deaths22', 'Deaths23',\n",
       "       'Deaths24', 'Deaths25', 'Deaths26', 'IM_Deaths1', 'IM_Deaths2',\n",
       "       'IM_Deaths3', 'IM_Deaths4', 'ICD_Version'],\n",
       "      dtype='object')"
      ]
     },
     "execution_count": 5,
     "metadata": {},
     "output_type": "execute_result"
    }
   ],
   "source": [
    "who_mortality.columns"
   ]
  },
  {
   "cell_type": "code",
   "execution_count": 6,
   "id": "5055e58b",
   "metadata": {
    "scrolled": false
   },
   "outputs": [
    {
     "data": {
      "text/plain": [
       "0"
      ]
     },
     "execution_count": 6,
     "metadata": {},
     "output_type": "execute_result"
    }
   ],
   "source": [
    "# See if there are redundant entries accross ICD versions\n",
    "dup_check_cols = ['Country', 'Year', 'Admin1', 'SubDiv', 'List', 'Cause', 'Sex', 'Frmat', 'IM_Frmat']\n",
    "who_mortality.duplicated(subset=dup_check_cols).sum()"
   ]
  },
  {
   "cell_type": "code",
   "execution_count": 7,
   "id": "56f89bc1",
   "metadata": {},
   "outputs": [],
   "source": [
    "# Since there are no duplicates, this column can now be dropped\n",
    "who_mortality = who_mortality.drop('ICD_Version', axis=1)"
   ]
  },
  {
   "cell_type": "markdown",
   "id": "f9f62e0f",
   "metadata": {},
   "source": [
    "## Consider Age Formats\n",
    "For some entries, there are multiple formats for deaths and infant deaths (`Frmat` and `IM_Frmat`).  In the WHO documentation, these various formats exist where the reported age did not exactly match default age groups, but are close.  Disregarding `Frmat` will cause some discrepancies when graphing over age groups, such as when Death3 or Pop3 refers to age 1 to 4 instead of age 1, but allows more easy comparisons between countries that use differing age formats."
   ]
  },
  {
   "cell_type": "code",
   "execution_count": 8,
   "id": "098832c6",
   "metadata": {},
   "outputs": [
    {
     "data": {
      "text/plain": [
       "00    3986330\n",
       "01    1633169\n",
       "02     364505\n",
       "09      19631\n",
       "03      19065\n",
       "07      16267\n",
       "04      14738\n",
       "08      10422\n",
       "05       3616\n",
       "06        324\n",
       "Name: Frmat, dtype: int64"
      ]
     },
     "execution_count": 8,
     "metadata": {},
     "output_type": "execute_result"
    }
   ],
   "source": [
    "who_mortality['Frmat'].value_counts()"
   ]
  },
  {
   "cell_type": "code",
   "execution_count": 9,
   "id": "94eca271",
   "metadata": {},
   "outputs": [
    {
     "data": {
      "text/plain": [
       "01    4523881\n",
       "08    1430501\n",
       "02      94572\n",
       "09      19113\n",
       "Name: IM_Frmat, dtype: int64"
      ]
     },
     "execution_count": 9,
     "metadata": {},
     "output_type": "execute_result"
    }
   ],
   "source": [
    "who_mortality['IM_Frmat'].value_counts()"
   ]
  },
  {
   "cell_type": "code",
   "execution_count": 10,
   "id": "af5439e7",
   "metadata": {},
   "outputs": [
    {
     "data": {
      "text/plain": [
       "0"
      ]
     },
     "execution_count": 10,
     "metadata": {},
     "output_type": "execute_result"
    }
   ],
   "source": [
    "non_format_cols = ['Country', 'Year', 'Admin1', 'SubDiv', 'List', 'Cause', 'Sex']\n",
    "who_mortality.duplicated(subset= non_format_cols).sum()"
   ]
  },
  {
   "cell_type": "code",
   "execution_count": 11,
   "id": "f19a862a",
   "metadata": {},
   "outputs": [],
   "source": [
    "# There are no situations where a cause has multiple reporting formats, so there is no need to combine rows.\n",
    "who_mortality = who_mortality.drop(['Frmat', 'IM_Frmat'], axis=1)"
   ]
  },
  {
   "cell_type": "markdown",
   "id": "b990f4aa",
   "metadata": {},
   "source": [
    "## Determine all cause mortality\n",
    "The `Cause` column lists the ICD code for all cause, or for a more specific defined cause of death, which is based on the ICD version defined in `List`."
   ]
  },
  {
   "cell_type": "code",
   "execution_count": 12,
   "id": "6e5f4d51",
   "metadata": {
    "scrolled": true
   },
   "outputs": [
    {
     "data": {
      "text/plain": [
       "array(['07A', '07B', '08A', '08B', '09A', '09B', '09N', '09C', '101',\n",
       "       '103', '104', '10M', 'UE1'], dtype=object)"
      ]
     },
     "execution_count": 12,
     "metadata": {},
     "output_type": "execute_result"
    }
   ],
   "source": [
    "who_mortality['List'].unique()"
   ]
  },
  {
   "cell_type": "code",
   "execution_count": 13,
   "id": "134f72d4",
   "metadata": {},
   "outputs": [],
   "source": [
    "# The following is based on the ICD codes from the tables provided in the documentation.\n",
    "all_cause_code_dict = {\n",
    "    '07A': 'A000',\n",
    "    '07B': 'B000',\n",
    "    '08A': 'A000',\n",
    "    '08B': 'B000',\n",
    "    '09A': 'B00',\n",
    "    '09B': 'B00',\n",
    "    '09N': 'B00',\n",
    "    '09C': 'C001',\n",
    "    '101': '1000',\n",
    "    '103': 'AAA',\n",
    "    '104': 'AAA',\n",
    "    '10M': 'AAA',\n",
    "    'UE1': 'CH00'\n",
    "}"
   ]
  },
  {
   "cell_type": "code",
   "execution_count": 14,
   "id": "20344358",
   "metadata": {},
   "outputs": [
    {
     "name": "stdout",
     "output_type": "stream",
     "text": [
      "07A: 1640 of 270659 where all cause codes.\n",
      "07B: 220 of 11090 where all cause codes.\n",
      "08A: 1758 of 377063 where all cause codes.\n",
      "08B: 72 of 3564 where all cause codes.\n",
      "09A: 1190 of 196502 where all cause codes.\n",
      "09B: 1866 of 638778 where all cause codes.\n",
      "09N: 496 of 56546 where all cause codes.\n",
      "09C: 84 of 7644 where all cause codes.\n",
      "101: 304 of 30099 where all cause codes.\n",
      "103: 739 of 348113 where all cause codes.\n",
      "104: 4055 of 4109643 where all cause codes.\n",
      "10M: 12 of 18114 where all cause codes.\n",
      "UE1: 4 of 252 where all cause codes.\n"
     ]
    }
   ],
   "source": [
    "all_cause = pd.Series(data=pd.NA, index=who_mortality.index, dtype='boolean')\n",
    "for icd_list, ac_code in all_cause_code_dict.items():\n",
    "    who_mask = who_mortality['List']==icd_list\n",
    "    who_subset = who_mortality[who_mask]\n",
    "    all_cause_test = (who_subset['Cause'] == ac_code)\n",
    "    all_cause[who_mask] = all_cause_test\n",
    "    print(f\"{icd_list}: {all_cause_test.sum()} of {who_mask.sum()} where all cause codes.\")\n",
    "\n",
    "assert(all_cause.isna().sum() == 0)"
   ]
  },
  {
   "cell_type": "code",
   "execution_count": 15,
   "id": "cc6078f5",
   "metadata": {},
   "outputs": [],
   "source": [
    "# The Cause and List columns are no longer needed\n",
    "who_mortality = who_mortality.drop(['Cause', 'List'], axis=1)\n",
    "\n",
    "who_mort_all_cause = who_mortality[all_cause]\n",
    "who_mort_cause_defined = who_mortality[~all_cause]"
   ]
  },
  {
   "cell_type": "code",
   "execution_count": 16,
   "id": "1faca4dd",
   "metadata": {},
   "outputs": [],
   "source": [
    "# Aggregate mortality for defined causes and compare\n",
    "group_columns = ['Country', 'Year', 'Admin1', 'SubDiv', 'Sex']\n",
    "who_mort_cause_defined = who_mort_cause_defined.groupby(group_columns).sum()\n",
    "who_mort_all_cause = who_mort_all_cause.set_index(group_columns)"
   ]
  },
  {
   "cell_type": "code",
   "execution_count": 17,
   "id": "1dab69d2",
   "metadata": {},
   "outputs": [
    {
     "name": "stdout",
     "output_type": "stream",
     "text": [
      "All Cause: (12440, 30)\n",
      "Cause Defined: (12450, 30)\n"
     ]
    }
   ],
   "source": [
    "print(f\"All Cause: {who_mort_all_cause.shape}\")\n",
    "print(f\"Cause Defined: {who_mort_cause_defined.shape}\")"
   ]
  },
  {
   "cell_type": "markdown",
   "id": "1f145ff9",
   "metadata": {},
   "source": [
    "There appears to be more entries where causes were defined than there are entries where all cause was defined."
   ]
  },
  {
   "cell_type": "code",
   "execution_count": 18,
   "id": "3708dd70",
   "metadata": {},
   "outputs": [
    {
     "name": "stdout",
     "output_type": "stream",
     "text": [
      "Intersection Size: 12439\n",
      "Causes defined, but all cause not reported: 11\n"
     ]
    }
   ],
   "source": [
    "intersect_index = who_mort_all_cause.index.intersection(who_mort_cause_defined.index)\n",
    "difference_index = who_mort_cause_defined.index.difference(who_mort_all_cause.index)\n",
    "print(f\"Intersection Size: {len(intersect_index)}\")\n",
    "print(f\"Causes defined, but all cause not reported: {len(difference_index)}\")"
   ]
  },
  {
   "cell_type": "code",
   "execution_count": 19,
   "id": "7b2e987e",
   "metadata": {},
   "outputs": [
    {
     "data": {
      "text/html": [
       "<div>\n",
       "<style scoped>\n",
       "    .dataframe tbody tr th:only-of-type {\n",
       "        vertical-align: middle;\n",
       "    }\n",
       "\n",
       "    .dataframe tbody tr th {\n",
       "        vertical-align: top;\n",
       "    }\n",
       "\n",
       "    .dataframe thead th {\n",
       "        text-align: right;\n",
       "    }\n",
       "</style>\n",
       "<table border=\"1\" class=\"dataframe\">\n",
       "  <thead>\n",
       "    <tr style=\"text-align: right;\">\n",
       "      <th></th>\n",
       "      <th>All Cause == Defined Cause</th>\n",
       "      <th>All Cause &lt; Defined Cause</th>\n",
       "      <th>All Cause &gt; Defined Cause</th>\n",
       "    </tr>\n",
       "  </thead>\n",
       "  <tbody>\n",
       "    <tr>\n",
       "      <th>Deaths1</th>\n",
       "      <td>6454</td>\n",
       "      <td>5981</td>\n",
       "      <td>4</td>\n",
       "    </tr>\n",
       "    <tr>\n",
       "      <th>Deaths2</th>\n",
       "      <td>6864</td>\n",
       "      <td>5571</td>\n",
       "      <td>4</td>\n",
       "    </tr>\n",
       "    <tr>\n",
       "      <th>Deaths3</th>\n",
       "      <td>7115</td>\n",
       "      <td>5322</td>\n",
       "      <td>2</td>\n",
       "    </tr>\n",
       "    <tr>\n",
       "      <th>Deaths4</th>\n",
       "      <td>8360</td>\n",
       "      <td>4071</td>\n",
       "      <td>8</td>\n",
       "    </tr>\n",
       "    <tr>\n",
       "      <th>Deaths5</th>\n",
       "      <td>8436</td>\n",
       "      <td>3995</td>\n",
       "      <td>8</td>\n",
       "    </tr>\n",
       "    <tr>\n",
       "      <th>Deaths6</th>\n",
       "      <td>8472</td>\n",
       "      <td>3959</td>\n",
       "      <td>8</td>\n",
       "    </tr>\n",
       "    <tr>\n",
       "      <th>Deaths7</th>\n",
       "      <td>7033</td>\n",
       "      <td>5402</td>\n",
       "      <td>4</td>\n",
       "    </tr>\n",
       "    <tr>\n",
       "      <th>Deaths8</th>\n",
       "      <td>7108</td>\n",
       "      <td>5327</td>\n",
       "      <td>4</td>\n",
       "    </tr>\n",
       "    <tr>\n",
       "      <th>Deaths9</th>\n",
       "      <td>6946</td>\n",
       "      <td>5489</td>\n",
       "      <td>4</td>\n",
       "    </tr>\n",
       "    <tr>\n",
       "      <th>Deaths10</th>\n",
       "      <td>6966</td>\n",
       "      <td>5469</td>\n",
       "      <td>4</td>\n",
       "    </tr>\n",
       "    <tr>\n",
       "      <th>Deaths11</th>\n",
       "      <td>6868</td>\n",
       "      <td>5567</td>\n",
       "      <td>4</td>\n",
       "    </tr>\n",
       "    <tr>\n",
       "      <th>Deaths12</th>\n",
       "      <td>6885</td>\n",
       "      <td>5550</td>\n",
       "      <td>4</td>\n",
       "    </tr>\n",
       "    <tr>\n",
       "      <th>Deaths13</th>\n",
       "      <td>6815</td>\n",
       "      <td>5620</td>\n",
       "      <td>4</td>\n",
       "    </tr>\n",
       "    <tr>\n",
       "      <th>Deaths14</th>\n",
       "      <td>6847</td>\n",
       "      <td>5588</td>\n",
       "      <td>4</td>\n",
       "    </tr>\n",
       "    <tr>\n",
       "      <th>Deaths15</th>\n",
       "      <td>6751</td>\n",
       "      <td>5684</td>\n",
       "      <td>4</td>\n",
       "    </tr>\n",
       "    <tr>\n",
       "      <th>Deaths16</th>\n",
       "      <td>6784</td>\n",
       "      <td>5651</td>\n",
       "      <td>4</td>\n",
       "    </tr>\n",
       "    <tr>\n",
       "      <th>Deaths17</th>\n",
       "      <td>6725</td>\n",
       "      <td>5710</td>\n",
       "      <td>4</td>\n",
       "    </tr>\n",
       "    <tr>\n",
       "      <th>Deaths18</th>\n",
       "      <td>6770</td>\n",
       "      <td>5665</td>\n",
       "      <td>4</td>\n",
       "    </tr>\n",
       "    <tr>\n",
       "      <th>Deaths19</th>\n",
       "      <td>6693</td>\n",
       "      <td>5742</td>\n",
       "      <td>4</td>\n",
       "    </tr>\n",
       "    <tr>\n",
       "      <th>Deaths20</th>\n",
       "      <td>6743</td>\n",
       "      <td>5692</td>\n",
       "      <td>4</td>\n",
       "    </tr>\n",
       "    <tr>\n",
       "      <th>Deaths21</th>\n",
       "      <td>6726</td>\n",
       "      <td>5709</td>\n",
       "      <td>4</td>\n",
       "    </tr>\n",
       "    <tr>\n",
       "      <th>Deaths22</th>\n",
       "      <td>6866</td>\n",
       "      <td>5569</td>\n",
       "      <td>4</td>\n",
       "    </tr>\n",
       "    <tr>\n",
       "      <th>Deaths23</th>\n",
       "      <td>6874</td>\n",
       "      <td>5561</td>\n",
       "      <td>4</td>\n",
       "    </tr>\n",
       "    <tr>\n",
       "      <th>Deaths24</th>\n",
       "      <td>12289</td>\n",
       "      <td>150</td>\n",
       "      <td>0</td>\n",
       "    </tr>\n",
       "    <tr>\n",
       "      <th>Deaths25</th>\n",
       "      <td>12301</td>\n",
       "      <td>138</td>\n",
       "      <td>0</td>\n",
       "    </tr>\n",
       "    <tr>\n",
       "      <th>Deaths26</th>\n",
       "      <td>9912</td>\n",
       "      <td>2527</td>\n",
       "      <td>0</td>\n",
       "    </tr>\n",
       "    <tr>\n",
       "      <th>IM_Deaths1</th>\n",
       "      <td>7283</td>\n",
       "      <td>5152</td>\n",
       "      <td>4</td>\n",
       "    </tr>\n",
       "    <tr>\n",
       "      <th>IM_Deaths2</th>\n",
       "      <td>9482</td>\n",
       "      <td>2885</td>\n",
       "      <td>72</td>\n",
       "    </tr>\n",
       "    <tr>\n",
       "      <th>IM_Deaths3</th>\n",
       "      <td>9484</td>\n",
       "      <td>2883</td>\n",
       "      <td>72</td>\n",
       "    </tr>\n",
       "    <tr>\n",
       "      <th>IM_Deaths4</th>\n",
       "      <td>9191</td>\n",
       "      <td>3175</td>\n",
       "      <td>73</td>\n",
       "    </tr>\n",
       "  </tbody>\n",
       "</table>\n",
       "</div>"
      ],
      "text/plain": [
       "            All Cause == Defined Cause  All Cause < Defined Cause  \\\n",
       "Deaths1                           6454                       5981   \n",
       "Deaths2                           6864                       5571   \n",
       "Deaths3                           7115                       5322   \n",
       "Deaths4                           8360                       4071   \n",
       "Deaths5                           8436                       3995   \n",
       "Deaths6                           8472                       3959   \n",
       "Deaths7                           7033                       5402   \n",
       "Deaths8                           7108                       5327   \n",
       "Deaths9                           6946                       5489   \n",
       "Deaths10                          6966                       5469   \n",
       "Deaths11                          6868                       5567   \n",
       "Deaths12                          6885                       5550   \n",
       "Deaths13                          6815                       5620   \n",
       "Deaths14                          6847                       5588   \n",
       "Deaths15                          6751                       5684   \n",
       "Deaths16                          6784                       5651   \n",
       "Deaths17                          6725                       5710   \n",
       "Deaths18                          6770                       5665   \n",
       "Deaths19                          6693                       5742   \n",
       "Deaths20                          6743                       5692   \n",
       "Deaths21                          6726                       5709   \n",
       "Deaths22                          6866                       5569   \n",
       "Deaths23                          6874                       5561   \n",
       "Deaths24                         12289                        150   \n",
       "Deaths25                         12301                        138   \n",
       "Deaths26                          9912                       2527   \n",
       "IM_Deaths1                        7283                       5152   \n",
       "IM_Deaths2                        9482                       2885   \n",
       "IM_Deaths3                        9484                       2883   \n",
       "IM_Deaths4                        9191                       3175   \n",
       "\n",
       "            All Cause > Defined Cause  \n",
       "Deaths1                             4  \n",
       "Deaths2                             4  \n",
       "Deaths3                             2  \n",
       "Deaths4                             8  \n",
       "Deaths5                             8  \n",
       "Deaths6                             8  \n",
       "Deaths7                             4  \n",
       "Deaths8                             4  \n",
       "Deaths9                             4  \n",
       "Deaths10                            4  \n",
       "Deaths11                            4  \n",
       "Deaths12                            4  \n",
       "Deaths13                            4  \n",
       "Deaths14                            4  \n",
       "Deaths15                            4  \n",
       "Deaths16                            4  \n",
       "Deaths17                            4  \n",
       "Deaths18                            4  \n",
       "Deaths19                            4  \n",
       "Deaths20                            4  \n",
       "Deaths21                            4  \n",
       "Deaths22                            4  \n",
       "Deaths23                            4  \n",
       "Deaths24                            0  \n",
       "Deaths25                            0  \n",
       "Deaths26                            0  \n",
       "IM_Deaths1                          4  \n",
       "IM_Deaths2                         72  \n",
       "IM_Deaths3                         72  \n",
       "IM_Deaths4                         73  "
      ]
     },
     "execution_count": 19,
     "metadata": {},
     "output_type": "execute_result"
    }
   ],
   "source": [
    "compare_eq = (who_mort_all_cause.loc[intersect_index].fillna(0) == who_mort_cause_defined.loc[intersect_index]).sum()\n",
    "compare_lt = (who_mort_all_cause.loc[intersect_index].fillna(0) < who_mort_cause_defined.loc[intersect_index]).sum()\n",
    "compare_gt = (who_mort_all_cause.loc[intersect_index].fillna(0) > who_mort_cause_defined.loc[intersect_index]).sum()\n",
    "\n",
    "pd.DataFrame({\n",
    "    \"All Cause == Defined Cause\": compare_eq,\n",
    "    \"All Cause < Defined Cause\": compare_lt,\n",
    "    \"All Cause > Defined Cause\": compare_gt\n",
    "             })"
   ]
  },
  {
   "cell_type": "markdown",
   "id": "6d2bd360",
   "metadata": {},
   "source": [
    "While all cause is the same as the sum of defined causes in most cases; this is not always the case.  It is likely that a single death can result in an entry for multiple causes of deaths where defined causes is > all cause.  Where all cause is greater than the sum of defined causes, some deaths may not have had a well defined ICD code.  Using the sum of defined causes of deaths as an approximation for the total deaths will likely not be completely accurate for those 11 entries that do not have an all_cause entry."
   ]
  },
  {
   "cell_type": "code",
   "execution_count": 20,
   "id": "74071ca0",
   "metadata": {},
   "outputs": [
    {
     "data": {
      "text/plain": [
       "(11, 30)"
      ]
     },
     "execution_count": 20,
     "metadata": {},
     "output_type": "execute_result"
    }
   ],
   "source": [
    "who_all_cause_calculated = who_mort_cause_defined.loc[difference_index]\n",
    "who_all_cause_calculated.shape"
   ]
  },
  {
   "cell_type": "code",
   "execution_count": 21,
   "id": "162103ce",
   "metadata": {},
   "outputs": [
    {
     "data": {
      "text/plain": [
       "Index(['country', 'name'], dtype='object')"
      ]
     },
     "execution_count": 21,
     "metadata": {},
     "output_type": "execute_result"
    }
   ],
   "source": [
    "# load country codes to see which countries had all causes calculated.\n",
    "country_codes = pd.read_csv('country_codes')\n",
    "country_codes.columns"
   ]
  },
  {
   "cell_type": "code",
   "execution_count": 22,
   "id": "02a43046",
   "metadata": {},
   "outputs": [
    {
     "data": {
      "text/html": [
       "<div>\n",
       "<style scoped>\n",
       "    .dataframe tbody tr th:only-of-type {\n",
       "        vertical-align: middle;\n",
       "    }\n",
       "\n",
       "    .dataframe tbody tr th {\n",
       "        vertical-align: top;\n",
       "    }\n",
       "\n",
       "    .dataframe thead th {\n",
       "        text-align: right;\n",
       "    }\n",
       "</style>\n",
       "<table border=\"1\" class=\"dataframe\">\n",
       "  <thead>\n",
       "    <tr style=\"text-align: right;\">\n",
       "      <th></th>\n",
       "      <th>Country</th>\n",
       "      <th>Year</th>\n",
       "      <th>Sex</th>\n",
       "      <th>Deaths1</th>\n",
       "      <th>IM_Deaths1</th>\n",
       "      <th>IM_Deaths2</th>\n",
       "      <th>IM_Deaths3</th>\n",
       "      <th>IM_Deaths4</th>\n",
       "    </tr>\n",
       "  </thead>\n",
       "  <tbody>\n",
       "    <tr>\n",
       "      <th>0</th>\n",
       "      <td>Tunisia</td>\n",
       "      <td>2013</td>\n",
       "      <td>9</td>\n",
       "      <td>1</td>\n",
       "      <td>0</td>\n",
       "      <td>0</td>\n",
       "      <td>0</td>\n",
       "      <td>0</td>\n",
       "    </tr>\n",
       "    <tr>\n",
       "      <th>1</th>\n",
       "      <td>Barbados</td>\n",
       "      <td>2004</td>\n",
       "      <td>9</td>\n",
       "      <td>1</td>\n",
       "      <td>0</td>\n",
       "      <td>0</td>\n",
       "      <td>0</td>\n",
       "      <td>0</td>\n",
       "    </tr>\n",
       "    <tr>\n",
       "      <th>2</th>\n",
       "      <td>Belize</td>\n",
       "      <td>2007</td>\n",
       "      <td>9</td>\n",
       "      <td>3</td>\n",
       "      <td>0</td>\n",
       "      <td>0</td>\n",
       "      <td>0</td>\n",
       "      <td>0</td>\n",
       "    </tr>\n",
       "    <tr>\n",
       "      <th>3</th>\n",
       "      <td>Belize</td>\n",
       "      <td>2008</td>\n",
       "      <td>9</td>\n",
       "      <td>1</td>\n",
       "      <td>1</td>\n",
       "      <td>0</td>\n",
       "      <td>0</td>\n",
       "      <td>0</td>\n",
       "    </tr>\n",
       "    <tr>\n",
       "      <th>4</th>\n",
       "      <td>Maldives</td>\n",
       "      <td>2010</td>\n",
       "      <td>9</td>\n",
       "      <td>1</td>\n",
       "      <td>1</td>\n",
       "      <td>0</td>\n",
       "      <td>0</td>\n",
       "      <td>0</td>\n",
       "    </tr>\n",
       "    <tr>\n",
       "      <th>5</th>\n",
       "      <td>Turkey</td>\n",
       "      <td>2013</td>\n",
       "      <td>9</td>\n",
       "      <td>48</td>\n",
       "      <td>30</td>\n",
       "      <td>11</td>\n",
       "      <td>3</td>\n",
       "      <td>1</td>\n",
       "    </tr>\n",
       "    <tr>\n",
       "      <th>6</th>\n",
       "      <td>Turkey</td>\n",
       "      <td>2014</td>\n",
       "      <td>9</td>\n",
       "      <td>73</td>\n",
       "      <td>43</td>\n",
       "      <td>21</td>\n",
       "      <td>3</td>\n",
       "      <td>0</td>\n",
       "    </tr>\n",
       "    <tr>\n",
       "      <th>7</th>\n",
       "      <td>Turkey</td>\n",
       "      <td>2015</td>\n",
       "      <td>9</td>\n",
       "      <td>66</td>\n",
       "      <td>32</td>\n",
       "      <td>20</td>\n",
       "      <td>2</td>\n",
       "      <td>1</td>\n",
       "    </tr>\n",
       "    <tr>\n",
       "      <th>8</th>\n",
       "      <td>Turkey</td>\n",
       "      <td>2016</td>\n",
       "      <td>9</td>\n",
       "      <td>65</td>\n",
       "      <td>28</td>\n",
       "      <td>22</td>\n",
       "      <td>5</td>\n",
       "      <td>2</td>\n",
       "    </tr>\n",
       "    <tr>\n",
       "      <th>9</th>\n",
       "      <td>United Arab Emirates</td>\n",
       "      <td>2019</td>\n",
       "      <td>9</td>\n",
       "      <td>3</td>\n",
       "      <td>2</td>\n",
       "      <td>0</td>\n",
       "      <td>0</td>\n",
       "      <td>0</td>\n",
       "    </tr>\n",
       "    <tr>\n",
       "      <th>10</th>\n",
       "      <td>Germany</td>\n",
       "      <td>2016</td>\n",
       "      <td>9</td>\n",
       "      <td>3</td>\n",
       "      <td>2</td>\n",
       "      <td>0</td>\n",
       "      <td>0</td>\n",
       "      <td>0</td>\n",
       "    </tr>\n",
       "  </tbody>\n",
       "</table>\n",
       "</div>"
      ],
      "text/plain": [
       "                 Country  Year  Sex  Deaths1  IM_Deaths1  IM_Deaths2  \\\n",
       "0                Tunisia  2013    9        1           0           0   \n",
       "1               Barbados  2004    9        1           0           0   \n",
       "2                 Belize  2007    9        3           0           0   \n",
       "3                 Belize  2008    9        1           1           0   \n",
       "4               Maldives  2010    9        1           1           0   \n",
       "5                 Turkey  2013    9       48          30          11   \n",
       "6                 Turkey  2014    9       73          43          21   \n",
       "7                 Turkey  2015    9       66          32          20   \n",
       "8                 Turkey  2016    9       65          28          22   \n",
       "9   United Arab Emirates  2019    9        3           2           0   \n",
       "10               Germany  2016    9        3           2           0   \n",
       "\n",
       "    IM_Deaths3  IM_Deaths4  \n",
       "0            0           0  \n",
       "1            0           0  \n",
       "2            0           0  \n",
       "3            0           0  \n",
       "4            0           0  \n",
       "5            3           1  \n",
       "6            3           0  \n",
       "7            2           1  \n",
       "8            5           2  \n",
       "9            0           0  \n",
       "10           0           0  "
      ]
     },
     "execution_count": 22,
     "metadata": {},
     "output_type": "execute_result"
    }
   ],
   "source": [
    "display_ac_calculated = who_all_cause_calculated.reset_index()\n",
    "display_ac_calculated['Country'] = display_ac_calculated.merge(country_codes,\n",
    "                                                              how='left', left_on='Country', right_on='country')['name']\n",
    "# Deaths1 is total deaths for all ages.\n",
    "display_ac_calculated[['Country', 'Year', 'Sex', 'Deaths1'] + im_columns] "
   ]
  },
  {
   "cell_type": "markdown",
   "id": "3aea5a77",
   "metadata": {},
   "source": [
    "Sex == 9 refers to undefined sex according to the WHO documentation."
   ]
  },
  {
   "cell_type": "code",
   "execution_count": 23,
   "id": "7ae01b9c",
   "metadata": {},
   "outputs": [],
   "source": [
    "who_mortality = pd.concat([who_mort_all_cause, who_all_cause_calculated])\n",
    "who_mortality = who_mortality.reset_index()"
   ]
  },
  {
   "cell_type": "markdown",
   "id": "d1a5a1bb",
   "metadata": {},
   "source": [
    "## Load Population File"
   ]
  },
  {
   "cell_type": "code",
   "execution_count": 24,
   "id": "44a5ab5b",
   "metadata": {},
   "outputs": [],
   "source": [
    "pop_columns = [f'Pop{i}' for i in range(1,27)]\n",
    "pop_dtypes = {'Country': int, 'Year': int, 'Admin1': 'Int64', 'SubDiv': str, 'Sex': int,\n",
    "                'Frmat': str, 'Lb': 'Int64'}\n",
    "#pop_dtypes.update({col:'Int64' for col in pop_columns})\n",
    "# Some population values are given in fractions."
   ]
  },
  {
   "cell_type": "code",
   "execution_count": 25,
   "id": "b480f5bb",
   "metadata": {},
   "outputs": [],
   "source": [
    "pop_df = pd.read_csv('pop', dtype=pop_dtypes)"
   ]
  },
  {
   "cell_type": "code",
   "execution_count": 26,
   "id": "c7b098bc",
   "metadata": {},
   "outputs": [],
   "source": [
    "# Convert population columns from floats to integers\n",
    "for col in pop_columns:\n",
    "    pop_series = pop_df[col]\n",
    "    pop_df[col] = pop_series.round().astype('Int64')"
   ]
  },
  {
   "cell_type": "code",
   "execution_count": 27,
   "id": "8f11eee6",
   "metadata": {},
   "outputs": [
    {
     "data": {
      "text/plain": [
       "Index(['Country', 'Admin1', 'SubDiv', 'Year', 'Sex', 'Frmat', 'Pop1', 'Pop2',\n",
       "       'Pop3', 'Pop4', 'Pop5', 'Pop6', 'Pop7', 'Pop8', 'Pop9', 'Pop10',\n",
       "       'Pop11', 'Pop12', 'Pop13', 'Pop14', 'Pop15', 'Pop16', 'Pop17', 'Pop18',\n",
       "       'Pop19', 'Pop20', 'Pop21', 'Pop22', 'Pop23', 'Pop24', 'Pop25', 'Pop26',\n",
       "       'Lb'],\n",
       "      dtype='object')"
      ]
     },
     "execution_count": 27,
     "metadata": {},
     "output_type": "execute_result"
    }
   ],
   "source": [
    "pop_df.columns"
   ]
  },
  {
   "cell_type": "code",
   "execution_count": 28,
   "id": "9c65a4d4",
   "metadata": {},
   "outputs": [
    {
     "data": {
      "text/plain": [
       "0"
      ]
     },
     "execution_count": 28,
     "metadata": {},
     "output_type": "execute_result"
    }
   ],
   "source": [
    "# Check for duplicates due to Frmat, as above\n",
    "non_format_cols = ['Country', 'Year', 'Admin1', 'SubDiv','Sex']\n",
    "pop_df.duplicated(subset=non_format_cols).sum()"
   ]
  },
  {
   "cell_type": "code",
   "execution_count": 29,
   "id": "2b662f48",
   "metadata": {},
   "outputs": [],
   "source": [
    "pop_df = pop_df.drop('Frmat', axis=1)"
   ]
  },
  {
   "cell_type": "code",
   "execution_count": 30,
   "id": "9c8adeeb",
   "metadata": {},
   "outputs": [],
   "source": [
    "# fill NA values Admin1 and SubDiv as above to allow for merge.\n",
    "pop_df['Admin1'] = pop_df['Admin1'].fillna(0)\n",
    "pop_df['SubDiv'] = pop_df['SubDiv'].fillna('NONE')"
   ]
  },
  {
   "cell_type": "code",
   "execution_count": 31,
   "id": "3737bc23",
   "metadata": {},
   "outputs": [
    {
     "name": "stdout",
     "output_type": "stream",
     "text": [
      "(12451, 35)\n",
      "(13431, 62)\n"
     ]
    }
   ],
   "source": [
    "# merge with mortality dataframe.  Use outer join to allow for plotting of population where deaths\n",
    "# are not reported\n",
    "print(who_mortality.shape)\n",
    "who_mortality = who_mortality.merge(pop_df, how='outer', on=['Country', 'Year', 'Admin1', 'SubDiv', 'Sex'])\n",
    "print(who_mortality.shape)"
   ]
  },
  {
   "cell_type": "code",
   "execution_count": 32,
   "id": "5ea2cdf1",
   "metadata": {
    "scrolled": true
   },
   "outputs": [
    {
     "data": {
      "text/plain": [
       "Country    0\n",
       "Year       0\n",
       "Admin1     0\n",
       "SubDiv     0\n",
       "Sex        0\n",
       "dtype: int64"
      ]
     },
     "execution_count": 32,
     "metadata": {},
     "output_type": "execute_result"
    }
   ],
   "source": [
    "who_mortality[['Country', 'Year', 'Admin1', 'SubDiv', 'Sex']].isna().sum()"
   ]
  },
  {
   "cell_type": "code",
   "execution_count": 33,
   "id": "dce8bda5",
   "metadata": {},
   "outputs": [],
   "source": [
    "# Replace country code with country name\n",
    "country_name = who_mortality.merge(country_codes, how='left', left_on='Country', right_on='country')['name']\n",
    "assert(country_name.isna().sum() == 0)\n",
    "who_mortality['Country'] = country_name"
   ]
  },
  {
   "cell_type": "markdown",
   "id": "1265a674",
   "metadata": {},
   "source": [
    "## Handle Admin1 and SubDiv columns\n",
    "According to the documentation provided by the WHO, `Admin1` refers to a specified region/Category pertinent to each country and `SubDiv` refers to categories of data.  The documentation indicates that the data refers to the country when both `Admin1` and `SubDiv` are blank (`0` and `NONE` after having NA values filled in)."
   ]
  },
  {
   "cell_type": "code",
   "execution_count": 34,
   "id": "c777d627",
   "metadata": {},
   "outputs": [
    {
     "data": {
      "text/plain": [
       "0"
      ]
     },
     "execution_count": 34,
     "metadata": {},
     "output_type": "execute_result"
    }
   ],
   "source": [
    "((who_mortality['Admin1'] != 0) & (who_mortality['SubDiv'] != 'NONE')).sum()"
   ]
  },
  {
   "cell_type": "markdown",
   "id": "0f0230d6",
   "metadata": {},
   "source": [
    "There are no cases with non standard `Admin1` and `SubDiv` together; considering each case individually.  Similar to `Cause`, the sum of non-blank entries will be used only when there is not a blank entry available."
   ]
  },
  {
   "cell_type": "code",
   "execution_count": 35,
   "id": "b11718e2",
   "metadata": {},
   "outputs": [],
   "source": [
    "who_admin_blank = who_mortality[who_mortality['Admin1']==0]\n",
    "who_admin_defined = who_mortality[who_mortality['Admin1']!=0]\n",
    "non_admin_group_cols = ['Country', 'Year', 'SubDiv', 'Sex']\n",
    "who_admin_blank = who_admin_blank.set_index(non_admin_group_cols)\n",
    "who_admin_defined = who_admin_defined.groupby(non_admin_group_cols).sum()\n",
    "who_admin_blank = who_admin_blank.drop('Admin1', axis=1)\n",
    "who_admin_defined = who_admin_defined.drop('Admin1', axis=1)"
   ]
  },
  {
   "cell_type": "code",
   "execution_count": 36,
   "id": "6cb20905",
   "metadata": {},
   "outputs": [
    {
     "name": "stdout",
     "output_type": "stream",
     "text": [
      "Intersection Size: 77\n",
      "Admin1 set, but no corresponding blank record: 56\n"
     ]
    }
   ],
   "source": [
    "admin_intersect_index = who_admin_defined.index.intersection(who_admin_blank.index)\n",
    "admin_difference_index = who_admin_defined.index.difference(who_admin_blank.index)\n",
    "print(f\"Intersection Size: {len(admin_intersect_index)}\")\n",
    "print(f\"Admin1 set, but no corresponding blank record: {len(admin_difference_index)}\")"
   ]
  },
  {
   "cell_type": "code",
   "execution_count": 37,
   "id": "3bd1393a",
   "metadata": {},
   "outputs": [
    {
     "data": {
      "text/html": [
       "<div>\n",
       "<style scoped>\n",
       "    .dataframe tbody tr th:only-of-type {\n",
       "        vertical-align: middle;\n",
       "    }\n",
       "\n",
       "    .dataframe tbody tr th {\n",
       "        vertical-align: top;\n",
       "    }\n",
       "\n",
       "    .dataframe thead tr th {\n",
       "        text-align: left;\n",
       "    }\n",
       "\n",
       "    .dataframe thead tr:last-of-type th {\n",
       "        text-align: right;\n",
       "    }\n",
       "</style>\n",
       "<table border=\"1\" class=\"dataframe\">\n",
       "  <thead>\n",
       "    <tr>\n",
       "      <th></th>\n",
       "      <th></th>\n",
       "      <th>min</th>\n",
       "      <th>max</th>\n",
       "      <th>count</th>\n",
       "    </tr>\n",
       "    <tr>\n",
       "      <th></th>\n",
       "      <th></th>\n",
       "      <th>Year</th>\n",
       "      <th>Year</th>\n",
       "      <th>Year</th>\n",
       "    </tr>\n",
       "    <tr>\n",
       "      <th>Country</th>\n",
       "      <th>Sex</th>\n",
       "      <th></th>\n",
       "      <th></th>\n",
       "      <th></th>\n",
       "    </tr>\n",
       "  </thead>\n",
       "  <tbody>\n",
       "    <tr>\n",
       "      <th rowspan=\"2\" valign=\"top\">Israel</th>\n",
       "      <th>1</th>\n",
       "      <td>1950</td>\n",
       "      <td>1974</td>\n",
       "      <td>25</td>\n",
       "    </tr>\n",
       "    <tr>\n",
       "      <th>2</th>\n",
       "      <td>1950</td>\n",
       "      <td>1974</td>\n",
       "      <td>25</td>\n",
       "    </tr>\n",
       "    <tr>\n",
       "      <th rowspan=\"2\" valign=\"top\">Malaysia</th>\n",
       "      <th>1</th>\n",
       "      <td>1977</td>\n",
       "      <td>1979</td>\n",
       "      <td>3</td>\n",
       "    </tr>\n",
       "    <tr>\n",
       "      <th>2</th>\n",
       "      <td>1977</td>\n",
       "      <td>1979</td>\n",
       "      <td>3</td>\n",
       "    </tr>\n",
       "  </tbody>\n",
       "</table>\n",
       "</div>"
      ],
      "text/plain": [
       "               min   max count\n",
       "              Year  Year  Year\n",
       "Country  Sex                  \n",
       "Israel   1    1950  1974    25\n",
       "         2    1950  1974    25\n",
       "Malaysia 1    1977  1979     3\n",
       "         2    1977  1979     3"
      ]
     },
     "execution_count": 37,
     "metadata": {},
     "output_type": "execute_result"
    }
   ],
   "source": [
    "admin_calculated = who_admin_defined.loc[admin_difference_index]\n",
    "pd.pivot_table(admin_calculated.reset_index(),\n",
    "               index=['Country', 'Sex'], values=['Year'], aggfunc=['min','max', 'count'])"
   ]
  },
  {
   "cell_type": "code",
   "execution_count": 38,
   "id": "a3f52888",
   "metadata": {},
   "outputs": [
    {
     "data": {
      "text/plain": [
       "(13311, 61)"
      ]
     },
     "execution_count": 38,
     "metadata": {},
     "output_type": "execute_result"
    }
   ],
   "source": [
    "who_mortality = pd.concat([who_admin_blank, admin_calculated]).reset_index()\n",
    "who_mortality.shape"
   ]
  },
  {
   "cell_type": "markdown",
   "id": "4f31ce1f",
   "metadata": {},
   "source": [
    "Repeat what was done for `Admin1`, but for `SubDiv`."
   ]
  },
  {
   "cell_type": "code",
   "execution_count": 39,
   "id": "d753587b",
   "metadata": {},
   "outputs": [],
   "source": [
    "who_subdiv_blank = who_mortality[who_mortality['SubDiv']=='NONE']\n",
    "who_subdiv_defined = who_mortality[who_mortality['SubDiv']!='NONE']\n",
    "non_subdiv_group_cols = ['Country', 'Year', 'Sex']\n",
    "who_subdiv_blank = who_subdiv_blank.set_index(non_subdiv_group_cols)\n",
    "who_subdiv_defined = who_subdiv_defined.groupby(non_subdiv_group_cols).sum()\n",
    "who_subdiv_blank = who_subdiv_blank.drop('SubDiv', axis=1)"
   ]
  },
  {
   "cell_type": "code",
   "execution_count": 40,
   "id": "efb58e12",
   "metadata": {},
   "outputs": [
    {
     "name": "stdout",
     "output_type": "stream",
     "text": [
      "Intersection Size: 18\n",
      "SubDiv set, but no corresponding blank record: 200\n"
     ]
    }
   ],
   "source": [
    "subdiv_intersect_index = who_subdiv_defined.index.intersection(who_subdiv_blank.index)\n",
    "subdiv_difference_index = who_subdiv_defined.index.difference(who_subdiv_blank.index)\n",
    "print(f\"Intersection Size: {len(subdiv_intersect_index)}\")\n",
    "print(f\"SubDiv set, but no corresponding blank record: {len(subdiv_difference_index)}\")"
   ]
  },
  {
   "cell_type": "code",
   "execution_count": 41,
   "id": "d2b0e536",
   "metadata": {
    "scrolled": false
   },
   "outputs": [
    {
     "data": {
      "text/html": [
       "<div>\n",
       "<style scoped>\n",
       "    .dataframe tbody tr th:only-of-type {\n",
       "        vertical-align: middle;\n",
       "    }\n",
       "\n",
       "    .dataframe tbody tr th {\n",
       "        vertical-align: top;\n",
       "    }\n",
       "\n",
       "    .dataframe thead tr th {\n",
       "        text-align: left;\n",
       "    }\n",
       "\n",
       "    .dataframe thead tr:last-of-type th {\n",
       "        text-align: right;\n",
       "    }\n",
       "</style>\n",
       "<table border=\"1\" class=\"dataframe\">\n",
       "  <thead>\n",
       "    <tr>\n",
       "      <th></th>\n",
       "      <th></th>\n",
       "      <th>min</th>\n",
       "      <th>max</th>\n",
       "      <th>count</th>\n",
       "    </tr>\n",
       "    <tr>\n",
       "      <th></th>\n",
       "      <th></th>\n",
       "      <th>Year</th>\n",
       "      <th>Year</th>\n",
       "      <th>Year</th>\n",
       "    </tr>\n",
       "    <tr>\n",
       "      <th>Country</th>\n",
       "      <th>Sex</th>\n",
       "      <th></th>\n",
       "      <th></th>\n",
       "      <th></th>\n",
       "    </tr>\n",
       "  </thead>\n",
       "  <tbody>\n",
       "    <tr>\n",
       "      <th rowspan=\"2\" valign=\"top\">China</th>\n",
       "      <th>1</th>\n",
       "      <td>1987</td>\n",
       "      <td>2000</td>\n",
       "      <td>14</td>\n",
       "    </tr>\n",
       "    <tr>\n",
       "      <th>2</th>\n",
       "      <td>1987</td>\n",
       "      <td>2000</td>\n",
       "      <td>14</td>\n",
       "    </tr>\n",
       "    <tr>\n",
       "      <th rowspan=\"2\" valign=\"top\">Iran (Islamic Republic of)</th>\n",
       "      <th>1</th>\n",
       "      <td>1974</td>\n",
       "      <td>1987</td>\n",
       "      <td>11</td>\n",
       "    </tr>\n",
       "    <tr>\n",
       "      <th>2</th>\n",
       "      <td>1974</td>\n",
       "      <td>1987</td>\n",
       "      <td>11</td>\n",
       "    </tr>\n",
       "    <tr>\n",
       "      <th rowspan=\"2\" valign=\"top\">Lebanon</th>\n",
       "      <th>1</th>\n",
       "      <td>2017</td>\n",
       "      <td>2018</td>\n",
       "      <td>2</td>\n",
       "    </tr>\n",
       "    <tr>\n",
       "      <th>2</th>\n",
       "      <td>2017</td>\n",
       "      <td>2018</td>\n",
       "      <td>2</td>\n",
       "    </tr>\n",
       "    <tr>\n",
       "      <th rowspan=\"2\" valign=\"top\">Malaysia</th>\n",
       "      <th>1</th>\n",
       "      <td>1997</td>\n",
       "      <td>1997</td>\n",
       "      <td>1</td>\n",
       "    </tr>\n",
       "    <tr>\n",
       "      <th>2</th>\n",
       "      <td>1997</td>\n",
       "      <td>1997</td>\n",
       "      <td>1</td>\n",
       "    </tr>\n",
       "    <tr>\n",
       "      <th rowspan=\"2\" valign=\"top\">Occupied Palestinian Territory</th>\n",
       "      <th>1</th>\n",
       "      <td>2008</td>\n",
       "      <td>2018</td>\n",
       "      <td>11</td>\n",
       "    </tr>\n",
       "    <tr>\n",
       "      <th>2</th>\n",
       "      <td>2008</td>\n",
       "      <td>2018</td>\n",
       "      <td>11</td>\n",
       "    </tr>\n",
       "    <tr>\n",
       "      <th rowspan=\"2\" valign=\"top\">Pakistan</th>\n",
       "      <th>1</th>\n",
       "      <td>1993</td>\n",
       "      <td>1994</td>\n",
       "      <td>2</td>\n",
       "    </tr>\n",
       "    <tr>\n",
       "      <th>2</th>\n",
       "      <td>1993</td>\n",
       "      <td>1994</td>\n",
       "      <td>2</td>\n",
       "    </tr>\n",
       "    <tr>\n",
       "      <th rowspan=\"2\" valign=\"top\">Paraguay</th>\n",
       "      <th>1</th>\n",
       "      <td>1961</td>\n",
       "      <td>1991</td>\n",
       "      <td>30</td>\n",
       "    </tr>\n",
       "    <tr>\n",
       "      <th>2</th>\n",
       "      <td>1961</td>\n",
       "      <td>1991</td>\n",
       "      <td>30</td>\n",
       "    </tr>\n",
       "    <tr>\n",
       "      <th rowspan=\"2\" valign=\"top\">Syrian Arab Republic</th>\n",
       "      <th>1</th>\n",
       "      <td>1977</td>\n",
       "      <td>1977</td>\n",
       "      <td>1</td>\n",
       "    </tr>\n",
       "    <tr>\n",
       "      <th>2</th>\n",
       "      <td>1977</td>\n",
       "      <td>1977</td>\n",
       "      <td>1</td>\n",
       "    </tr>\n",
       "    <tr>\n",
       "      <th rowspan=\"2\" valign=\"top\">Turkey</th>\n",
       "      <th>1</th>\n",
       "      <td>1978</td>\n",
       "      <td>2008</td>\n",
       "      <td>28</td>\n",
       "    </tr>\n",
       "    <tr>\n",
       "      <th>2</th>\n",
       "      <td>1978</td>\n",
       "      <td>2008</td>\n",
       "      <td>28</td>\n",
       "    </tr>\n",
       "  </tbody>\n",
       "</table>\n",
       "</div>"
      ],
      "text/plain": [
       "                                     min   max count\n",
       "                                    Year  Year  Year\n",
       "Country                        Sex                  \n",
       "China                          1    1987  2000    14\n",
       "                               2    1987  2000    14\n",
       "Iran (Islamic Republic of)     1    1974  1987    11\n",
       "                               2    1974  1987    11\n",
       "Lebanon                        1    2017  2018     2\n",
       "                               2    2017  2018     2\n",
       "Malaysia                       1    1997  1997     1\n",
       "                               2    1997  1997     1\n",
       "Occupied Palestinian Territory 1    2008  2018    11\n",
       "                               2    2008  2018    11\n",
       "Pakistan                       1    1993  1994     2\n",
       "                               2    1993  1994     2\n",
       "Paraguay                       1    1961  1991    30\n",
       "                               2    1961  1991    30\n",
       "Syrian Arab Republic           1    1977  1977     1\n",
       "                               2    1977  1977     1\n",
       "Turkey                         1    1978  2008    28\n",
       "                               2    1978  2008    28"
      ]
     },
     "execution_count": 41,
     "metadata": {},
     "output_type": "execute_result"
    }
   ],
   "source": [
    "subdiv_calculated = who_subdiv_defined.loc[subdiv_difference_index]\n",
    "pd.pivot_table(subdiv_calculated.reset_index(),\n",
    "               index=['Country', 'Sex'], values=['Year'], aggfunc=['min','max', 'count'])"
   ]
  },
  {
   "cell_type": "code",
   "execution_count": 42,
   "id": "1a8f0606",
   "metadata": {},
   "outputs": [
    {
     "data": {
      "text/plain": [
       "(13237, 60)"
      ]
     },
     "execution_count": 42,
     "metadata": {},
     "output_type": "execute_result"
    }
   ],
   "source": [
    "who_mortality = pd.concat([who_subdiv_blank, subdiv_calculated]).reset_index()\n",
    "who_mortality.shape"
   ]
  },
  {
   "cell_type": "code",
   "execution_count": 43,
   "id": "37dfd7f3",
   "metadata": {},
   "outputs": [
    {
     "data": {
      "text/plain": [
       "0"
      ]
     },
     "execution_count": 43,
     "metadata": {},
     "output_type": "execute_result"
    }
   ],
   "source": [
    "who_mortality.duplicated(subset=['Country', 'Year', 'Sex']).sum()"
   ]
  },
  {
   "cell_type": "markdown",
   "id": "d69b3d22",
   "metadata": {},
   "source": [
    "## Change sex labels to strings; calculate total for all sex."
   ]
  },
  {
   "cell_type": "code",
   "execution_count": 44,
   "id": "e5239537",
   "metadata": {},
   "outputs": [
    {
     "data": {
      "text/plain": [
       "Male           6439\n",
       "Female         6439\n",
       "Unspecified     359\n",
       "Name: Sex, dtype: int64"
      ]
     },
     "execution_count": 44,
     "metadata": {},
     "output_type": "execute_result"
    }
   ],
   "source": [
    "sex_series = who_mortality['Sex']\n",
    "sex_series = sex_series.replace({1:'Male', 2:'Female', 9:'Unspecified'})\n",
    "sex_series.value_counts()"
   ]
  },
  {
   "cell_type": "code",
   "execution_count": 45,
   "id": "ad4b11bf",
   "metadata": {},
   "outputs": [],
   "source": [
    "who_mortality['Sex'] = sex_series"
   ]
  },
  {
   "cell_type": "code",
   "execution_count": 46,
   "id": "1cb60286",
   "metadata": {},
   "outputs": [],
   "source": [
    "all_sex = who_mortality.groupby(['Country', 'Year'], as_index=False).sum()\n",
    "# replace 0 with Na for missing values\n",
    "all_sex = all_sex.replace(0, np.nan)\n",
    "all_sex['Sex'] = 'All'\n",
    "all_sex = all_sex[who_mortality.columns]\n",
    "who_mortality = pd.concat([who_mortality, all_sex])"
   ]
  },
  {
   "cell_type": "code",
   "execution_count": 47,
   "id": "ddb4cf29",
   "metadata": {},
   "outputs": [
    {
     "data": {
      "text/plain": [
       "(19676, 60)"
      ]
     },
     "execution_count": 47,
     "metadata": {},
     "output_type": "execute_result"
    }
   ],
   "source": [
    "who_mortality.shape"
   ]
  },
  {
   "cell_type": "markdown",
   "id": "4e7b9278",
   "metadata": {},
   "source": [
    "## Calculate rates"
   ]
  },
  {
   "cell_type": "code",
   "execution_count": 48,
   "id": "48310b1a",
   "metadata": {},
   "outputs": [],
   "source": [
    "# Calculate total infant mortality\n",
    "who_mortality['IM_Total'] = who_mortality[im_columns].sum(axis=1).astype('Int64')"
   ]
  },
  {
   "cell_type": "code",
   "execution_count": 49,
   "id": "ec00aa12",
   "metadata": {},
   "outputs": [],
   "source": [
    "rate_columns = [f'Rate{i}' for i in range(1,27)]\n",
    "\n",
    "for death_col, pop_col, rate_col in zip(deaths_columns+['IM_Total'], pop_columns+['Lb'], rate_columns+['IM_Rate']):\n",
    "    who_mortality[rate_col] = 1000 * who_mortality[death_col] / who_mortality[pop_col]"
   ]
  },
  {
   "cell_type": "code",
   "execution_count": 50,
   "id": "d27c6b8f",
   "metadata": {},
   "outputs": [],
   "source": [
    "# Where population is reported as zero but there is a death count, there are inf values; replace this with NaN\n",
    "who_mortality[rate_columns+['IM_Rate']] = who_mortality[rate_columns+['IM_Rate']].replace(np.inf, np.nan)"
   ]
  },
  {
   "cell_type": "markdown",
   "id": "74d0c40c",
   "metadata": {},
   "source": [
    "## Create output files"
   ]
  },
  {
   "cell_type": "code",
   "execution_count": 51,
   "id": "a8a08012",
   "metadata": {},
   "outputs": [],
   "source": [
    "# The color map gets confused by the USA label in Virgin Islands\n",
    "who_mortality['Country'] = who_mortality['Country'].replace({\"Virgin Islands (USA)\": \"US Virgin Islands\"})"
   ]
  },
  {
   "cell_type": "code",
   "execution_count": 52,
   "id": "8fc39293",
   "metadata": {},
   "outputs": [],
   "source": [
    "index_columns = ['Country', 'Year', 'Sex']\n",
    "who_mortality = who_mortality.sort_values(index_columns)"
   ]
  },
  {
   "cell_type": "code",
   "execution_count": 53,
   "id": "15fcf94c",
   "metadata": {},
   "outputs": [],
   "source": [
    "deaths_df = who_mortality[index_columns + deaths_columns + ['IM_Total']]\n",
    "pop_df = who_mortality[index_columns + pop_columns + ['Lb']]\n",
    "rate_df = who_mortality[index_columns + rate_columns + ['IM_Rate']]"
   ]
  },
  {
   "cell_type": "code",
   "execution_count": 54,
   "id": "49992021",
   "metadata": {},
   "outputs": [],
   "source": [
    "# Column names based on WHO documentation for Deaths/Pop 1 to 26.  'Infant' used for infant deaths, live births, and infant\n",
    "# mortality rate.\n",
    "output_columns = ['All Ages', '0 years', '1 year', '2 year', '3 year', '4 year', '5-9 years', '10-14 years',\n",
    "                  '15-19 years', '20-24 years', '25-29 years', '30-34 years', '35-39 years', '40-44 years',\n",
    "                  '45-49 years', '50-54 years', '55-59 years', '60-64 years', '65-69 years', '70-74 years',\n",
    "                  '75-79 years', '80-84 years', '85-89 years', '90-94 years', '95+ years', 'Unspecified', 'Infant']\n",
    "deaths_df = deaths_df.rename(columns=dict(zip(deaths_columns+['IM_Total'], output_columns)))\n",
    "pop_df = pop_df.rename(columns=dict(zip(pop_columns + ['Lb'], output_columns)))\n",
    "rate_df = rate_df.rename(columns=dict(zip(rate_columns + ['IM_Rate'], output_columns)))"
   ]
  },
  {
   "cell_type": "code",
   "execution_count": 55,
   "id": "cd58da27",
   "metadata": {},
   "outputs": [],
   "source": [
    "deaths_df.to_csv('who_all_cause_deaths.csv', index=False)\n",
    "pop_df.to_csv('who_population.csv', index=False)\n",
    "rate_df.to_csv('who_ac_deaths_per_1000.csv', index=False)"
   ]
  }
 ],
 "metadata": {
  "kernelspec": {
   "display_name": "Python 3 (ipykernel)",
   "language": "python",
   "name": "python3"
  },
  "language_info": {
   "codemirror_mode": {
    "name": "ipython",
    "version": 3
   },
   "file_extension": ".py",
   "mimetype": "text/x-python",
   "name": "python",
   "nbconvert_exporter": "python",
   "pygments_lexer": "ipython3",
   "version": "3.10.4"
  }
 },
 "nbformat": 4,
 "nbformat_minor": 5
}
